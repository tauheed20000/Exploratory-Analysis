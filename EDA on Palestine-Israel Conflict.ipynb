{
 "cells": [
  {
   "cell_type": "code",
   "execution_count": 51,
   "id": "232f930b-39fe-445b-9f2f-cfa34f6042c5",
   "metadata": {},
   "outputs": [],
   "source": [
    "import pandas as pd\n",
    "import numpy as np"
   ]
  },
  {
   "cell_type": "code",
   "execution_count": 52,
   "id": "cf390e8f-15e8-46b7-9612-6edcfaa79498",
   "metadata": {},
   "outputs": [],
   "source": [
    "df=pd.read_csv('fatalities_isr_pse_conflict_2000_to_2023[1].csv')"
   ]
  },
  {
   "cell_type": "code",
   "execution_count": 53,
   "id": "18522ca7-ce51-48b9-a4dd-fc1294a16ba0",
   "metadata": {},
   "outputs": [
    {
     "data": {
      "text/html": [
       "<div>\n",
       "<style scoped>\n",
       "    .dataframe tbody tr th:only-of-type {\n",
       "        vertical-align: middle;\n",
       "    }\n",
       "\n",
       "    .dataframe tbody tr th {\n",
       "        vertical-align: top;\n",
       "    }\n",
       "\n",
       "    .dataframe thead th {\n",
       "        text-align: right;\n",
       "    }\n",
       "</style>\n",
       "<table border=\"1\" class=\"dataframe\">\n",
       "  <thead>\n",
       "    <tr style=\"text-align: right;\">\n",
       "      <th></th>\n",
       "      <th>name</th>\n",
       "      <th>date_of_event</th>\n",
       "      <th>age</th>\n",
       "      <th>citizenship</th>\n",
       "      <th>event_location</th>\n",
       "      <th>event_location_district</th>\n",
       "      <th>event_location_region</th>\n",
       "      <th>date_of_death</th>\n",
       "      <th>gender</th>\n",
       "      <th>took_part_in_the_hostilities</th>\n",
       "      <th>place_of_residence</th>\n",
       "      <th>place_of_residence_district</th>\n",
       "      <th>type_of_injury</th>\n",
       "      <th>ammunition</th>\n",
       "      <th>killed_by</th>\n",
       "      <th>notes</th>\n",
       "    </tr>\n",
       "  </thead>\n",
       "  <tbody>\n",
       "    <tr>\n",
       "      <th>0</th>\n",
       "      <td>'Abd a-Rahman Suleiman Muhammad Abu Daghash</td>\n",
       "      <td>2023-09-24</td>\n",
       "      <td>32.0</td>\n",
       "      <td>Palestinian</td>\n",
       "      <td>Nur Shams R.C.</td>\n",
       "      <td>Tulkarm</td>\n",
       "      <td>West Bank</td>\n",
       "      <td>2023-09-24</td>\n",
       "      <td>M</td>\n",
       "      <td>NaN</td>\n",
       "      <td>Nur Shams R.C.</td>\n",
       "      <td>Tulkarm</td>\n",
       "      <td>gunfire</td>\n",
       "      <td>live ammunition</td>\n",
       "      <td>Israeli security forces</td>\n",
       "      <td>Fatally shot by Israeli forces while standing ...</td>\n",
       "    </tr>\n",
       "    <tr>\n",
       "      <th>1</th>\n",
       "      <td>Usayed Farhan Muhammad 'Ali Abu 'Ali</td>\n",
       "      <td>2023-09-24</td>\n",
       "      <td>21.0</td>\n",
       "      <td>Palestinian</td>\n",
       "      <td>Nur Shams R.C.</td>\n",
       "      <td>Tulkarm</td>\n",
       "      <td>West Bank</td>\n",
       "      <td>2023-09-24</td>\n",
       "      <td>M</td>\n",
       "      <td>NaN</td>\n",
       "      <td>Nur Shams R.C.</td>\n",
       "      <td>Tulkarm</td>\n",
       "      <td>gunfire</td>\n",
       "      <td>live ammunition</td>\n",
       "      <td>Israeli security forces</td>\n",
       "      <td>Fatally shot by Israeli forces while trying to...</td>\n",
       "    </tr>\n",
       "    <tr>\n",
       "      <th>2</th>\n",
       "      <td>'Abdallah 'Imad Sa'ed Abu Hassan</td>\n",
       "      <td>2023-09-22</td>\n",
       "      <td>16.0</td>\n",
       "      <td>Palestinian</td>\n",
       "      <td>Kfar Dan</td>\n",
       "      <td>Jenin</td>\n",
       "      <td>West Bank</td>\n",
       "      <td>2023-09-22</td>\n",
       "      <td>M</td>\n",
       "      <td>NaN</td>\n",
       "      <td>al-Yamun</td>\n",
       "      <td>Jenin</td>\n",
       "      <td>gunfire</td>\n",
       "      <td>live ammunition</td>\n",
       "      <td>Israeli security forces</td>\n",
       "      <td>Fatally shot by soldiers while firing at them ...</td>\n",
       "    </tr>\n",
       "    <tr>\n",
       "      <th>3</th>\n",
       "      <td>Durgham Muhammad Yihya al-Akhras</td>\n",
       "      <td>2023-09-20</td>\n",
       "      <td>19.0</td>\n",
       "      <td>Palestinian</td>\n",
       "      <td>'Aqbat Jaber R.C.</td>\n",
       "      <td>Jericho</td>\n",
       "      <td>West Bank</td>\n",
       "      <td>2023-09-20</td>\n",
       "      <td>M</td>\n",
       "      <td>NaN</td>\n",
       "      <td>'Aqbat Jaber R.C.</td>\n",
       "      <td>Jericho</td>\n",
       "      <td>gunfire</td>\n",
       "      <td>live ammunition</td>\n",
       "      <td>Israeli security forces</td>\n",
       "      <td>Shot in the head by Israeli forces while throw...</td>\n",
       "    </tr>\n",
       "    <tr>\n",
       "      <th>4</th>\n",
       "      <td>Raafat 'Omar Ahmad Khamaisah</td>\n",
       "      <td>2023-09-19</td>\n",
       "      <td>15.0</td>\n",
       "      <td>Palestinian</td>\n",
       "      <td>Jenin R.C.</td>\n",
       "      <td>Jenin</td>\n",
       "      <td>West Bank</td>\n",
       "      <td>2023-09-19</td>\n",
       "      <td>M</td>\n",
       "      <td>NaN</td>\n",
       "      <td>Jenin</td>\n",
       "      <td>Jenin</td>\n",
       "      <td>gunfire</td>\n",
       "      <td>live ammunition</td>\n",
       "      <td>Israeli security forces</td>\n",
       "      <td>Wounded by soldiers’ gunfire after running awa...</td>\n",
       "    </tr>\n",
       "  </tbody>\n",
       "</table>\n",
       "</div>"
      ],
      "text/plain": [
       "                                          name date_of_event   age  \\\n",
       "0  'Abd a-Rahman Suleiman Muhammad Abu Daghash    2023-09-24  32.0   \n",
       "1         Usayed Farhan Muhammad 'Ali Abu 'Ali    2023-09-24  21.0   \n",
       "2             'Abdallah 'Imad Sa'ed Abu Hassan    2023-09-22  16.0   \n",
       "3             Durgham Muhammad Yihya al-Akhras    2023-09-20  19.0   \n",
       "4                 Raafat 'Omar Ahmad Khamaisah    2023-09-19  15.0   \n",
       "\n",
       "   citizenship     event_location event_location_district  \\\n",
       "0  Palestinian     Nur Shams R.C.                 Tulkarm   \n",
       "1  Palestinian     Nur Shams R.C.                 Tulkarm   \n",
       "2  Palestinian           Kfar Dan                   Jenin   \n",
       "3  Palestinian  'Aqbat Jaber R.C.                 Jericho   \n",
       "4  Palestinian         Jenin R.C.                   Jenin   \n",
       "\n",
       "  event_location_region date_of_death gender took_part_in_the_hostilities  \\\n",
       "0             West Bank    2023-09-24      M                          NaN   \n",
       "1             West Bank    2023-09-24      M                          NaN   \n",
       "2             West Bank    2023-09-22      M                          NaN   \n",
       "3             West Bank    2023-09-20      M                          NaN   \n",
       "4             West Bank    2023-09-19      M                          NaN   \n",
       "\n",
       "  place_of_residence place_of_residence_district type_of_injury  \\\n",
       "0     Nur Shams R.C.                     Tulkarm        gunfire   \n",
       "1     Nur Shams R.C.                     Tulkarm        gunfire   \n",
       "2           al-Yamun                       Jenin        gunfire   \n",
       "3  'Aqbat Jaber R.C.                     Jericho        gunfire   \n",
       "4              Jenin                       Jenin        gunfire   \n",
       "\n",
       "        ammunition                killed_by  \\\n",
       "0  live ammunition  Israeli security forces   \n",
       "1  live ammunition  Israeli security forces   \n",
       "2  live ammunition  Israeli security forces   \n",
       "3  live ammunition  Israeli security forces   \n",
       "4  live ammunition  Israeli security forces   \n",
       "\n",
       "                                               notes  \n",
       "0  Fatally shot by Israeli forces while standing ...  \n",
       "1  Fatally shot by Israeli forces while trying to...  \n",
       "2  Fatally shot by soldiers while firing at them ...  \n",
       "3  Shot in the head by Israeli forces while throw...  \n",
       "4  Wounded by soldiers’ gunfire after running awa...  "
      ]
     },
     "execution_count": 53,
     "metadata": {},
     "output_type": "execute_result"
    }
   ],
   "source": [
    "df.head()"
   ]
  },
  {
   "cell_type": "code",
   "execution_count": 54,
   "id": "67e5c6b6-c3e9-4912-ba1b-1178ad5cd327",
   "metadata": {},
   "outputs": [
    {
     "data": {
      "text/html": [
       "<div>\n",
       "<style scoped>\n",
       "    .dataframe tbody tr th:only-of-type {\n",
       "        vertical-align: middle;\n",
       "    }\n",
       "\n",
       "    .dataframe tbody tr th {\n",
       "        vertical-align: top;\n",
       "    }\n",
       "\n",
       "    .dataframe thead th {\n",
       "        text-align: right;\n",
       "    }\n",
       "</style>\n",
       "<table border=\"1\" class=\"dataframe\">\n",
       "  <thead>\n",
       "    <tr style=\"text-align: right;\">\n",
       "      <th></th>\n",
       "      <th>name</th>\n",
       "      <th>date_of_event</th>\n",
       "      <th>age</th>\n",
       "      <th>citizenship</th>\n",
       "      <th>event_location</th>\n",
       "      <th>event_location_district</th>\n",
       "      <th>event_location_region</th>\n",
       "      <th>date_of_death</th>\n",
       "      <th>gender</th>\n",
       "      <th>took_part_in_the_hostilities</th>\n",
       "      <th>place_of_residence</th>\n",
       "      <th>place_of_residence_district</th>\n",
       "      <th>type_of_injury</th>\n",
       "      <th>ammunition</th>\n",
       "      <th>killed_by</th>\n",
       "      <th>notes</th>\n",
       "    </tr>\n",
       "  </thead>\n",
       "  <tbody>\n",
       "    <tr>\n",
       "      <th>11119</th>\n",
       "      <td>Binyamin Herling</td>\n",
       "      <td>2000-10-19</td>\n",
       "      <td>64.0</td>\n",
       "      <td>Israeli</td>\n",
       "      <td>Nablus</td>\n",
       "      <td>Nablus</td>\n",
       "      <td>West Bank</td>\n",
       "      <td>2000-10-19</td>\n",
       "      <td>M</td>\n",
       "      <td>Israelis</td>\n",
       "      <td>Kedumim</td>\n",
       "      <td>Tulkarm</td>\n",
       "      <td>gunfire</td>\n",
       "      <td>live ammunition</td>\n",
       "      <td>Palestinian civilians</td>\n",
       "      <td>Killed while hiking on Mt. Eival.</td>\n",
       "    </tr>\n",
       "    <tr>\n",
       "      <th>11120</th>\n",
       "      <td>Farid Musa 'Issa a-Nesasreh</td>\n",
       "      <td>2000-10-17</td>\n",
       "      <td>28.0</td>\n",
       "      <td>Palestinian</td>\n",
       "      <td>Beit Furik</td>\n",
       "      <td>Nablus</td>\n",
       "      <td>West Bank</td>\n",
       "      <td>2000-10-17</td>\n",
       "      <td>M</td>\n",
       "      <td>Unknown</td>\n",
       "      <td>Beit Furik</td>\n",
       "      <td>Nablus</td>\n",
       "      <td>gunfire</td>\n",
       "      <td>NaN</td>\n",
       "      <td>Israeli civilians</td>\n",
       "      <td>Killed by a settler from Itamar while harvesti...</td>\n",
       "    </tr>\n",
       "    <tr>\n",
       "      <th>11121</th>\n",
       "      <td>Hillel Lieberman</td>\n",
       "      <td>2000-10-07</td>\n",
       "      <td>36.0</td>\n",
       "      <td>Israeli</td>\n",
       "      <td>Nablus</td>\n",
       "      <td>Nablus</td>\n",
       "      <td>West Bank</td>\n",
       "      <td>2000-10-07</td>\n",
       "      <td>M</td>\n",
       "      <td>Israelis</td>\n",
       "      <td>Elon Moreh</td>\n",
       "      <td>Nablus</td>\n",
       "      <td>gunfire</td>\n",
       "      <td>live ammunition</td>\n",
       "      <td>Palestinian civilians</td>\n",
       "      <td>His body was found a day after he disappeared.</td>\n",
       "    </tr>\n",
       "    <tr>\n",
       "      <th>11122</th>\n",
       "      <td>Fahed Mustafa 'Odeh Baker</td>\n",
       "      <td>2000-10-07</td>\n",
       "      <td>21.0</td>\n",
       "      <td>Palestinian</td>\n",
       "      <td>Bidya</td>\n",
       "      <td>Salfit</td>\n",
       "      <td>West Bank</td>\n",
       "      <td>2000-10-07</td>\n",
       "      <td>M</td>\n",
       "      <td>No</td>\n",
       "      <td>Bidya</td>\n",
       "      <td>Salfit</td>\n",
       "      <td>gunfire</td>\n",
       "      <td>NaN</td>\n",
       "      <td>Israeli civilians</td>\n",
       "      <td>Killed by settlers who rioted in Biddya village.</td>\n",
       "    </tr>\n",
       "    <tr>\n",
       "      <th>11123</th>\n",
       "      <td>Wichlav Zalsevsky</td>\n",
       "      <td>2000-10-02</td>\n",
       "      <td>24.0</td>\n",
       "      <td>Israeli</td>\n",
       "      <td>Masha</td>\n",
       "      <td>Salfit</td>\n",
       "      <td>West Bank</td>\n",
       "      <td>2000-10-02</td>\n",
       "      <td>M</td>\n",
       "      <td>Israelis</td>\n",
       "      <td>Ashdod</td>\n",
       "      <td>Israel</td>\n",
       "      <td>gunfire</td>\n",
       "      <td>live ammunition</td>\n",
       "      <td>Palestinian civilians</td>\n",
       "      <td>NaN</td>\n",
       "    </tr>\n",
       "  </tbody>\n",
       "</table>\n",
       "</div>"
      ],
      "text/plain": [
       "                              name date_of_event   age  citizenship  \\\n",
       "11119             Binyamin Herling    2000-10-19  64.0      Israeli   \n",
       "11120  Farid Musa 'Issa a-Nesasreh    2000-10-17  28.0  Palestinian   \n",
       "11121             Hillel Lieberman    2000-10-07  36.0      Israeli   \n",
       "11122    Fahed Mustafa 'Odeh Baker    2000-10-07  21.0  Palestinian   \n",
       "11123            Wichlav Zalsevsky    2000-10-02  24.0      Israeli   \n",
       "\n",
       "      event_location event_location_district event_location_region  \\\n",
       "11119         Nablus                  Nablus             West Bank   \n",
       "11120     Beit Furik                  Nablus             West Bank   \n",
       "11121         Nablus                  Nablus             West Bank   \n",
       "11122          Bidya                  Salfit             West Bank   \n",
       "11123          Masha                  Salfit             West Bank   \n",
       "\n",
       "      date_of_death gender took_part_in_the_hostilities place_of_residence  \\\n",
       "11119    2000-10-19      M                     Israelis            Kedumim   \n",
       "11120    2000-10-17      M                      Unknown         Beit Furik   \n",
       "11121    2000-10-07      M                     Israelis         Elon Moreh   \n",
       "11122    2000-10-07      M                           No              Bidya   \n",
       "11123    2000-10-02      M                     Israelis             Ashdod   \n",
       "\n",
       "      place_of_residence_district type_of_injury       ammunition  \\\n",
       "11119                     Tulkarm        gunfire  live ammunition   \n",
       "11120                      Nablus        gunfire              NaN   \n",
       "11121                      Nablus        gunfire  live ammunition   \n",
       "11122                      Salfit        gunfire              NaN   \n",
       "11123                      Israel        gunfire  live ammunition   \n",
       "\n",
       "                   killed_by  \\\n",
       "11119  Palestinian civilians   \n",
       "11120      Israeli civilians   \n",
       "11121  Palestinian civilians   \n",
       "11122      Israeli civilians   \n",
       "11123  Palestinian civilians   \n",
       "\n",
       "                                                   notes  \n",
       "11119                  Killed while hiking on Mt. Eival.  \n",
       "11120  Killed by a settler from Itamar while harvesti...  \n",
       "11121     His body was found a day after he disappeared.  \n",
       "11122   Killed by settlers who rioted in Biddya village.  \n",
       "11123                                                NaN  "
      ]
     },
     "execution_count": 54,
     "metadata": {},
     "output_type": "execute_result"
    }
   ],
   "source": [
    "df.tail()"
   ]
  },
  {
   "cell_type": "code",
   "execution_count": 55,
   "id": "14edc2e1-9ffd-4d70-a855-2c88a0d61696",
   "metadata": {},
   "outputs": [
    {
     "data": {
      "text/plain": [
       "(11124, 16)"
      ]
     },
     "execution_count": 55,
     "metadata": {},
     "output_type": "execute_result"
    }
   ],
   "source": [
    "df.shape"
   ]
  },
  {
   "cell_type": "code",
   "execution_count": 56,
   "id": "00c7d784-4d03-4706-a6be-578e1604f8cc",
   "metadata": {},
   "outputs": [
    {
     "data": {
      "text/plain": [
       "Index(['name', 'date_of_event', 'age', 'citizenship', 'event_location',\n",
       "       'event_location_district', 'event_location_region', 'date_of_death',\n",
       "       'gender', 'took_part_in_the_hostilities', 'place_of_residence',\n",
       "       'place_of_residence_district', 'type_of_injury', 'ammunition',\n",
       "       'killed_by', 'notes'],\n",
       "      dtype='object')"
      ]
     },
     "execution_count": 56,
     "metadata": {},
     "output_type": "execute_result"
    }
   ],
   "source": [
    "df.columns"
   ]
  },
  {
   "cell_type": "code",
   "execution_count": 57,
   "id": "f7e55562-e049-4d9c-b393-343e3130c9b4",
   "metadata": {},
   "outputs": [
    {
     "data": {
      "text/plain": [
       "array([\"'Abd a-Rahman Suleiman Muhammad Abu Daghash\",\n",
       "       \"Usayed Farhan Muhammad 'Ali Abu 'Ali\",\n",
       "       \"'Abdallah 'Imad Sa'ed Abu Hassan\", ..., 'Hillel Lieberman',\n",
       "       \"Fahed Mustafa 'Odeh Baker\", 'Wichlav Zalsevsky'], dtype=object)"
      ]
     },
     "execution_count": 57,
     "metadata": {},
     "output_type": "execute_result"
    }
   ],
   "source": [
    "df['name'].unique()"
   ]
  },
  {
   "cell_type": "code",
   "execution_count": 58,
   "id": "14dbf9a5-fab6-4c53-a8db-90998b25d677",
   "metadata": {},
   "outputs": [
    {
     "name": "stdout",
     "output_type": "stream",
     "text": [
      "<class 'pandas.core.frame.DataFrame'>\n",
      "RangeIndex: 11124 entries, 0 to 11123\n",
      "Data columns (total 16 columns):\n",
      " #   Column                        Non-Null Count  Dtype  \n",
      "---  ------                        --------------  -----  \n",
      " 0   name                          11124 non-null  object \n",
      " 1   date_of_event                 11124 non-null  object \n",
      " 2   age                           10995 non-null  float64\n",
      " 3   citizenship                   11124 non-null  object \n",
      " 4   event_location                11124 non-null  object \n",
      " 5   event_location_district       11124 non-null  object \n",
      " 6   event_location_region         11124 non-null  object \n",
      " 7   date_of_death                 11124 non-null  object \n",
      " 8   gender                        11104 non-null  object \n",
      " 9   took_part_in_the_hostilities  9694 non-null   object \n",
      " 10  place_of_residence            11056 non-null  object \n",
      " 11  place_of_residence_district   11056 non-null  object \n",
      " 12  type_of_injury                10833 non-null  object \n",
      " 13  ammunition                    5871 non-null   object \n",
      " 14  killed_by                     11124 non-null  object \n",
      " 15  notes                         10844 non-null  object \n",
      "dtypes: float64(1), object(15)\n",
      "memory usage: 1.4+ MB\n"
     ]
    }
   ],
   "source": [
    "df.info()"
   ]
  },
  {
   "cell_type": "code",
   "execution_count": 59,
   "id": "5ce93abf-14fc-4174-ac88-d81ef03403f0",
   "metadata": {},
   "outputs": [
    {
     "data": {
      "text/plain": [
       "array([ 32.,  21.,  16.,  19.,  15.,  29.,  24.,  25.,  23.,  45.,  41.,\n",
       "        14.,  17.,  40.,  28.,  60.,  26.,  22.,  42.,  18.,  20.,  33.,\n",
       "        34.,  39.,  27.,  64.,  48.,  31.,   2.,  38.,  30.,  51.,  49.,\n",
       "        66.,  82.,  43.,  36.,   8.,  52.,  44.,  10.,  61.,   4.,  35.,\n",
       "        58.,  71.,   6.,  nan,  68.,  56.,  57.,  46.,  50.,  59.,  54.,\n",
       "        63.,  12.,  84.,  13.,   3.,   5.,  53.,  37.,  78.,  65.,  11.,\n",
       "         9.,  62.,  79.,  89.,  47.,  73.,  55.,   7.,   1.,  67.,  74.,\n",
       "        70.,  72.,  76.,  69.,  92.,  87.,  77.,  94.,  75., 112.,  81.,\n",
       "        91.,  80.,  86.,  85., 101.,  83.,  90.,  88.])"
      ]
     },
     "execution_count": 59,
     "metadata": {},
     "output_type": "execute_result"
    }
   ],
   "source": [
    "df['age'].unique()"
   ]
  },
  {
   "cell_type": "code",
   "execution_count": 60,
   "id": "227d16d8-e8e8-4e3b-8ea6-afe2fe3db0de",
   "metadata": {},
   "outputs": [
    {
     "data": {
      "text/plain": [
       "array(['M', 'F', nan], dtype=object)"
      ]
     },
     "execution_count": 60,
     "metadata": {},
     "output_type": "execute_result"
    }
   ],
   "source": [
    "df['gender'].unique()"
   ]
  },
  {
   "cell_type": "code",
   "execution_count": 61,
   "id": "2ad04c1f-3d4a-471c-9497-779b9662f455",
   "metadata": {},
   "outputs": [
    {
     "data": {
      "text/plain": [
       "array([nan, 'No', 'Yes', 'Unknown', 'Israelis',\n",
       "       'Object of targeted killing'], dtype=object)"
      ]
     },
     "execution_count": 61,
     "metadata": {},
     "output_type": "execute_result"
    }
   ],
   "source": [
    "df['took_part_in_the_hostilities'].unique()"
   ]
  },
  {
   "cell_type": "code",
   "execution_count": 62,
   "id": "e5c2dbe9-77c1-49e3-b4f2-1945c001e3a2",
   "metadata": {},
   "outputs": [
    {
     "data": {
      "text/plain": [
       "array(['Nur Shams R.C.', 'al-Yamun', \"'Aqbat Jaber R.C.\", 'Jenin',\n",
       "       'Khan Yunis', 'Jenin R.C.', \"al-'Arrub Camp\", 'a-Zbeidat',\n",
       "       'Aqqaba', 'Deir Ammar Camp', 'Beit Hanina', 'a-Zababida',\n",
       "       'Beit Hagai', 'Ashdod', 'Balata R.C.', 'Jericho', 'Tulkarm',\n",
       "       'Ein Beit al-Maa R.C.', 'Jalqamus', 'Rummana', 'Bat Yam', 'Burka',\n",
       "       'Silwad', \"al-'Eizariyah\", \"a-Samu'\", 'Nablus', 'Sabastiya',\n",
       "       'Deir Dobwan', 'Shuqba', 'Arura', 'Meithalun', 'Fahma', 'Ramallah',\n",
       "       \"Jaba'\", \"Kafr 'Aqab (Jerusalem)\", 'Askar R.C.', 'Turmusaya',\n",
       "       'Ahiya', 'Urif', 'Yad Binyamin', 'Eli', 'Tubas', 'Husan',\n",
       "       'Wadi Burqin', 'a-Nabi Saleh', 'Hermesh', 'a-Dhahiriyah',\n",
       "       \"'Askar R.C. (New)\", \"a-Shati' Camp\", 'Rafah', 'Rehovot',\n",
       "       'Bani Suheila', 'a-Nuseirat Camp', 'Jabalya R.C.', 'Gaza city',\n",
       "       'Abasan al-Kabira', 'Qabatiyah', 'Tulkarm R.C.', 'Huwara', 'Tekoa',\n",
       "       'Bidya', \"Shu'fat R.C.\", 'Azzun', 'Efrat', 'Surif',\n",
       "       \"'Izbat Shufah\", 'Qaffin', 'Sanniriya', 'Qalqiliya',\n",
       "       'Tel Aviv-Yafo', \"Ni'lin\", 'Birqin', nan, 'Har Bracha',\n",
       "       \"al-Far'a Camp\", \"al-'Araqah\", 'Qarawat Bani Hassan', 'Ramot Alon',\n",
       "       'Jerusalem', \"al-'Esawiyah\", 'al-Judeidah', 'Hebron', 'Qusin',\n",
       "       \"Ras al-'Amud\", \"Pisgat Ze'ev\", 'Bet Shemesh', \"Neve Ya'akov\",\n",
       "       'a-Ram', 'Silwan', 'a-Duheisheh R.C.', \"Kafr Ni'ma\", 'Halhul',\n",
       "       'Rammun', 'Qalandiya Camp', 'Kfar Dan', 'Beit Rima', 'Osarin',\n",
       "       \"Ya'bad\", 'al-Mughayir', 'Beit Ummar', 'Haris', 'Kiryat Netafim',\n",
       "       'Yavne', 'al-Birah', 'Sanur', \"al-Mazra'a a-Sharqiya\", 'Beit Duqu',\n",
       "       'Kiryat Arba', 'Petah Tikva', \"'Anata new (Dahiyat a-Salam)\",\n",
       "       'Deir Jarir', \"al-Mazra'ah al-Qibliyah\", 'Bir Zeit',\n",
       "       'al-Jalazun R.C.', 'Anza', 'Bitunya', 'Beit Ijza', 'a-Tur',\n",
       "       'Holon', 'Beit Hanun', 'Rafah R.C.', 'Jabalya', 'al-Fukhari',\n",
       "       'Beit Lahiya', 'Awarta', 'Iskaka', 'Sarra', 'al-Midya',\n",
       "       \"Shuyukh al-'Arrub\", 'al-Khader', 'Um a-Sharayet - Samiramis',\n",
       "       'Harmala', 'Elad', 'Lod', \"Ari'el\", \"'Ein a-Sultan R.C.\",\n",
       "       'Misiliya', 'Beita', 'Kafr Laqif', \"Faqqu'a\", \"Giv'at Shmuel\",\n",
       "       'Tarqumya', 'Bnei Baraq', 'Abu Tur', 'Abu Dis', 'Burqa',\n",
       "       'Kafr Ein', \"Sa'ir\", 'Jiljilya', 'Um al-Kheir', \"al-Am'ari R.C.\",\n",
       "       'Merkah', 'Shavei Shomron', 'Salfit', \"Modi'in\", 'Tammun',\n",
       "       'Beit Jala', 'Silat al-Harithiya', 'al-Bureij R.C.', 'Bidu',\n",
       "       \"Shu'fat\", \"Beit 'Ur a-Tahta\", 'Qusrah', 'Aqbat Jaber Camp',\n",
       "       \"al-'Atatrah\", 'Deir al-Balah', \"Khuza'a\", \"Beit 'Anan\", 'Um Dar',\n",
       "       \"Bil'in\", 'Ramat Gan', 'Saida', 'al-Maghazi R.C.', \"'Ebwein\",\n",
       "       'Marda', 'Ein a-Duyuk al-Foqa', 'Salem', 'Asira al-Qibliya',\n",
       "       'Yatma', 'al-Qarayah al-Badwiyah al-Maslakh', 'a-Zawaydah',\n",
       "       'Dahmash', 'Sderot', 'al-Fawwar Camp', 'al-Lubban a-Sharqiyah',\n",
       "       'Rishon Lezion', 'Ashkelon', 'Shweikah', 'Odala', 'Wadi Fukin',\n",
       "       'Beit Dajan', 'Ras Karkar', 'Tal Menashe', \"'Eraq a-Tayeh\",\n",
       "       'Beit Lid', \"Deir Abu Mash'al\", 'a-Sawahrah a-Sharqiyah',\n",
       "       'Kifl haris', 'Wadi al-Joz', 'Abu Qash', 'Deir Samit',\n",
       "       'Jabal al-Mukabber', \"Beit 'Awwa\", \"'Izbat Beit Hanoun\",\n",
       "       'al-Mawasi', 'Kafr Zibad', 'kh. Abu Nujeim', 'al-Musadar', 'Attil',\n",
       "       'Swawin', 'Kfar Sava', 'Kh. Qeis', 'al-Mughraqa (Abu Midein)',\n",
       "       'a-Zawiya', 'Fasayil', 'Kharbatha al-Misbah', 'Beit Sira',\n",
       "       'Khan Yunis R.C.', 'al-Jalameh', 'a-Shaburah (R.C)', 'Rujeib',\n",
       "       'Talpiot (East)', 'Deir al-Balah Camp', 'Kobar', 'Idhna',\n",
       "       'Elon Moreh', \"Kh. al-'Adas\", 'Abasan al-Jadida (a-Saghira)',\n",
       "       'Wadi a-Salqa', \"Rosh Ha'ayin\", 'Adam (Geva Binyamin)',\n",
       "       'Ein Siniya', 'Tall a-Sultan Camp', 'al-Qararah', 'Aqraba',\n",
       "       'Jayus', 'Iraq Burin', 'Havat Gilad', 'Deir Nizam', 'Anata',\n",
       "       'Deir Ballut', 'Elkana', 'Har Adar', 'Abu Gosh', 'Illar',\n",
       "       \"Marah Ma'alla\", 'Hizma', 'Halamish', \"Tuqu'\", 'Bir Nabala',\n",
       "       \"al-'Ubeidiyah\", 'Qarawat Bani Zeid', 'Ras Khamis', 'al-Walajah',\n",
       "       'Beit Surik', 'Beit Wazan', 'Asira a-Shamaliya', \"Bani Na'im\",\n",
       "       'Tel Rumeidah', 'Beit Ula', 'Dahiyat al-Bareed', \"Otni'el\",\n",
       "       'Balata', 'Qatanna', 'Beit Fajjar', \"al-Baq'ah\", 'Masha',\n",
       "       'Um Tuba', 'Hajja', 'Qaryut', 'Qalandiya', 'Qubeiba',\n",
       "       'Kafr Jammal', \"Jamma'in\", 'Shademot Mehola', 'Raba', 'Yatta',\n",
       "       'Kafr a-Dik', \"Kiryat Ye'arim\", 'Sinjil', 'Beit Furik', \"A'bud\",\n",
       "       'a-Doha', \"'Ammuriyah\", 'Safed', 'Ramle', 'Alon Shvut', 'Budrus',\n",
       "       'Deir Ghasana', 'al-Muwarraq', 'Old City (Jerusalem)',\n",
       "       \"'Aydah R.C.\", \"Bal'a\", 'Surda', 'Nerya', \"Kafr Ra'i\", 'Duma',\n",
       "       'Brukin', 'Kochav Hashachar', \"al-A'uja\", 'Burin', 'Beit Liqya',\n",
       "       'Kibbutz Nirim', 'Kibbutz Nahal Oz', 'Yabna R.C.', 'Kabalan',\n",
       "       'Shokat a-Sufi', 'Deir al-Ghusun', 'Rafat', \"Qa' al-Qurein\",\n",
       "       'Qizan a-Najar', 'Savyon', 'a-Zahraa', 'Ginosar', 'Kfar Vradim',\n",
       "       'Um a-Naser (al-Bayuk)', 'Meitar', 'Ginegar', 'Eilat', 'Evron',\n",
       "       'Alonei Habashan', 'Bet Shean', 'Nir Etzion', 'Beit Elazari',\n",
       "       'Moshav Nov', 'Atzmon Segev', 'Kibbutz Merav', 'Kiryat Ono',\n",
       "       \"Ra'anana\", 'Beersheba', 'Pardesiya', 'Hoshaya', 'Poria Illit',\n",
       "       'Wadi Jraba', 'Ramat Yishai', 'Juhor a-Dik', 'Bet Arye', 'Dura',\n",
       "       'Nof Ayalon', 'Talmon', \"Deir al-'Asal al-Foqa\", 'Beitin', 'Rahat',\n",
       "       'Beit Hanina al-Balad', \"Brosh Habik'a\", 'Yitzhar', 'Anabta',\n",
       "       'Atarot', 'Bethlehem', \"al-'Aza Camp\", \"al-'Araqib\",\n",
       "       'Kiryat Malachi', 'Beitillu', 'Ramat Beit Shemesh', 'Mevo Horon',\n",
       "       'Itamar', \"Kafr 'Aqab\", \"Zichron Ya'akov\", 'Zur Baher', 'Bat Ayin',\n",
       "       'Arad', 'Kibbutz Magal', \"Giv'at Ze'ev\", 'Aroer', 'Netivot',\n",
       "       'Kh. al-Ads', 'Gilo', 'Kafr Malik', 'a-Rama', 'Kibbutz Gevaram',\n",
       "       'Kfar Aza', 'Bat Hefer', 'Alfei Menashe', 'Jat', 'Neve Daniel',\n",
       "       'Shilo', 'Dimona', 'Zinnaba', 'Dar Salah', 'Battir', 'Hadera',\n",
       "       'Kh. a-Deir', 'Yuvalim', 'Tapuah', 'Hod Hasharon',\n",
       "       'East Jerusalem', 'Araba', \"al-'Auja\", 'Sheqef', 'Tell', 'Rakhme',\n",
       "       'al-Hadadiya', 'Yaqir', 'Kafr Qadum', 'Ein a-Sultan Camp',\n",
       "       'Kharbatha Bani Harith', 'Baka a-Sharkiah', \"Giv'atayim\",\n",
       "       'Tel Aviv', 'Oranit', 'Kedumim', 'Herzliya', 'Migdalim',\n",
       "       'Beit Kahil', 'Tarrama', 'Netanya', 'Nahariya', 'Moshav Ahituv',\n",
       "       'Baqa al-Gharbiyah', \"Ma'on\", 'Carmel', 'Silat a-Dhahr',\n",
       "       'Kafr Qalil', 'Shufah', 'Kibbutz Bror Hayil', 'Mishmar Hayarden',\n",
       "       'Gan Yavne', 'Um al-Ghanam', 'Daburiyeh', 'Ganei Tal',\n",
       "       'Kiryat Gat', 'Nissanit', 'Nur Shams', 'Moshav Nehusha',\n",
       "       'Kafr Thulth', \"Tur'an\", 'Rafah Crossing', \"'Ar'arah\", 'Ksiefeh',\n",
       "       'Ein Mahel', \"Ein 'Arik\", 'Jaffa', 'Tiberias', 'The Upper Galile',\n",
       "       'Qadima', 'Neve Deqalim', 'Or Yehuda', 'Mevo Dotan', \"Far'on\",\n",
       "       'Silwad R.C.', 'Ofaqim', 'Beir al-Maksur', 'Moshav Mata',\n",
       "       \"Ma'ale Adumim\", 'Kibbutz Hamapil', 'Zeita', 'Talluza', 'Qatif',\n",
       "       'Avne Hefetz', 'Livne (Shani)', 'Kfar Monash', 'Mevaseret Zion',\n",
       "       'Beitar Illit', 'Afula', \"U'zeir\", 'Shoham', 'Ramin', 'Haifa',\n",
       "       'Fassouta', 'Kibbutz Yagur', 'Kiryat Bialik', 'Negohot', 'Homesh',\n",
       "       'Nofim', 'al-Jib', \"Barta'a a-Sharqiya\", \"Kfar Ya'bez\",\n",
       "       'Kibbutz Reshafim', 'Sde Trumot', 'Yemin Orde', 'Kiryat Ata',\n",
       "       'Tzur Hadassah', 'Jisr a-Zarka', 'Beit Imrin', 'Shvut Rachel',\n",
       "       'Tayasir', 'Marah Rabah', 'a-Tayba', 'Daliat al-Carmel', 'Gadish',\n",
       "       'Azor', 'Kiryat Shalom', 'Netzer Hazani', 'a-Thabra', 'Atzmon',\n",
       "       'Nazareth Illit', 'Jalbun', 'Kibbutz Metzer', 'Elyachin',\n",
       "       'Bet Zarzir', 'Bedolah', 'Rafiah Yam', 'Taybeh', 'Jinsafut',\n",
       "       'Ajja', 'Nazlat a-Sheikh Zeid', \"Petza'el\", 'Nir Galim',\n",
       "       'a-Shuyukh', 'a-Sater R.C.', 'Mechora', 'Sajur', 'Sifsufa',\n",
       "       'Carmiel', 'Olash', 'Psagot', \"Pedu'el\", 'Immanuel',\n",
       "       'Migdal Haemek', 'Ofra', \"Barta'a al-Gharbiyah\", \"'Anin\",\n",
       "       'Beit El', 'Erez (Industrial Zone)', 'Carmei Tzur',\n",
       "       \"Kochav Ya'akov\", \"Dura al-Qar'\", \"Pe'at Sade\", 'Nahalat Yehuda',\n",
       "       'Nes Ziona', 'Atara', 'Adora', 'Beit Sahur', 'Kiryat Yam',\n",
       "       'Deir Sharaf', 'Yasid', 'Qadurah R.C.', 'Siris',\n",
       "       'Pardes Hanna-Karkur', 'Ramat Hasharon', \"Herev La'et\", \"Beka'ot\",\n",
       "       'Zawata', 'Kharas', 'Julis', 'Tzoran', 'Deir Ghazala',\n",
       "       'Deir al-Hatab', 'Immatin', 'Nokdim', 'Ginot Shomron',\n",
       "       'Karnei Shomron', 'Shlomi', 'Katzrin', \"Ma'ale Efrayim\",\n",
       "       'Kibbutz Kfar Hanasi', 'Hamra', 'Rantis', \"Dhaher al-'Abed\",\n",
       "       'Or Akiva', 'Har Gillo', \"Yokne'am\", 'Gedera', 'Givon Hahadasha',\n",
       "       'Kfar Hess', 'Deir Istiya', \"Giv'at Olga\", 'Irtas',\n",
       "       'Kibbutz Sheluchot', \"Giv'at Hamoreh\", 'Alei Sinai', 'Maor',\n",
       "       'Kibbutz Sde Eliahu', 'Ofarim', 'Yafit', 'Susiya', 'Gannim',\n",
       "       'Einav', 'Kfar Haim', 'Rimmonim', 'Barqan', 'Tel Mond',\n",
       "       'Rosh Tzurim', 'Kfar Yam', 'Ben Shemen', 'Hurfeish', 'Kfar Darom',\n",
       "       'Mivtahim', \"Ma'ale Mikhmas\", \"Mevo Modi'im\", 'Banei Ayish'],\n",
       "      dtype=object)"
      ]
     },
     "execution_count": 62,
     "metadata": {},
     "output_type": "execute_result"
    }
   ],
   "source": [
    "df['place_of_residence'].unique()"
   ]
  },
  {
   "cell_type": "code",
   "execution_count": 63,
   "id": "cc7491ba-014f-4547-91df-b19a07479c64",
   "metadata": {},
   "outputs": [
    {
     "data": {
      "text/plain": [
       "array(['Tulkarm', 'Jenin', 'Jericho', 'Khan Yunis', 'Hebron', 'Tubas',\n",
       "       'Ramallah and al-Bira', 'East Jerusalem', 'Israel', 'Nablus',\n",
       "       'al-Quds', 'Bethlehem', 'Gaza', 'Rafah', 'Deir al-Balah',\n",
       "       'North Gaza', 'Salfit', 'Qalqiliya', nan, 'Gush Katif',\n",
       "       'West Bank'], dtype=object)"
      ]
     },
     "execution_count": 63,
     "metadata": {},
     "output_type": "execute_result"
    }
   ],
   "source": [
    "df['place_of_residence_district'].unique()"
   ]
  },
  {
   "cell_type": "code",
   "execution_count": 64,
   "id": "9bcb2314-0cb1-4067-b275-741444a864b3",
   "metadata": {},
   "outputs": [
    {
     "data": {
      "text/plain": [
       "array(['gunfire', 'stabbing', 'hit by a vehicle', 'explosion',\n",
       "       'physical assault', 'shelling', 'being bludgeoned with an axe',\n",
       "       'physically assaulted', 'beating', 'stones throwing',\n",
       "       'Strangulation', nan, 'fire', 'house demolition'], dtype=object)"
      ]
     },
     "execution_count": 64,
     "metadata": {},
     "output_type": "execute_result"
    }
   ],
   "source": [
    "df['type_of_injury'].unique()"
   ]
  },
  {
   "cell_type": "code",
   "execution_count": 65,
   "id": "9ac012a7-5f58-4f77-923b-26bb6ab2d9c7",
   "metadata": {},
   "outputs": [
    {
     "data": {
      "text/plain": [
       "array(['live ammunition', 'missile', nan, 'rocket',\n",
       "       '0.22-caliber bullets', 'bomb', 'knife', 'shell', 'rock',\n",
       "       'rubber-coated metal bullets', 'stun grenade', 'teargas canister',\n",
       "       'flare bomb', 'sponge rounds', 'mortar fire', 'grad rocket',\n",
       "       'flechette shells', 'phosphorus shell', 'Qassam rocket',\n",
       "       'explosive belt', 'grenade', 'car bomb'], dtype=object)"
      ]
     },
     "execution_count": 65,
     "metadata": {},
     "output_type": "execute_result"
    }
   ],
   "source": [
    "df['ammunition'].unique()"
   ]
  },
  {
   "cell_type": "code",
   "execution_count": 66,
   "id": "ccd58d19-cd48-4d7f-a9ce-03ef4125f28d",
   "metadata": {},
   "outputs": [
    {
     "data": {
      "text/plain": [
       "array(['Fatally shot by Israeli forces while standing on the roof of his home, watching clashes that erupted between them and young men after the forces entered the camp. During the forces’ incursion into the camp, another Palestinian was killed while fleeing the forces. According to the IDF Spokesperson, a soldier was moderately injured by shrapnel.',\n",
       "       'Fatally shot by Israeli forces while trying to flee them after watching clashes that erupted after they entered the camp and included a fire exchange. Abu ‘Ali was a Hamas military wing operative. During the forces’ incursion into the camp, another Palestinian was killed while standing on the roof of his house. According to the IDF Spokesperson, a soldier was moderately injured by shrapnel.',\n",
       "       'Fatally shot by soldiers while firing at them with an improvised gun during a fire exchange that erupted after they entered the village. Abu Hassan was an Islamic Jihad military wing operative.',\n",
       "       ...,\n",
       "       'Killed by a settler from Itamar while harvesting olives near the settlement.',\n",
       "       'His body was found a day after he disappeared.',\n",
       "       'Killed by settlers who rioted in Biddya village.'], dtype=object)"
      ]
     },
     "execution_count": 66,
     "metadata": {},
     "output_type": "execute_result"
    }
   ],
   "source": [
    "df['notes'].unique()"
   ]
  },
  {
   "cell_type": "code",
   "execution_count": 67,
   "id": "8b7c2516-0d86-4ab3-9f13-61994fa5a136",
   "metadata": {},
   "outputs": [
    {
     "data": {
      "text/plain": [
       "name                               0\n",
       "date_of_event                      0\n",
       "age                              129\n",
       "citizenship                        0\n",
       "event_location                     0\n",
       "event_location_district            0\n",
       "event_location_region              0\n",
       "date_of_death                      0\n",
       "gender                            20\n",
       "took_part_in_the_hostilities    1430\n",
       "place_of_residence                68\n",
       "place_of_residence_district       68\n",
       "type_of_injury                   291\n",
       "ammunition                      5253\n",
       "killed_by                          0\n",
       "notes                            280\n",
       "dtype: int64"
      ]
     },
     "execution_count": 67,
     "metadata": {},
     "output_type": "execute_result"
    }
   ],
   "source": [
    "df.isnull().sum()"
   ]
  },
  {
   "cell_type": "markdown",
   "id": "674cea71-0c61-4b13-9233-70528162edfc",
   "metadata": {},
   "source": [
    "# Data Cleaning\n",
    "1. Missing values in the age columns and change their datatypes.\n",
    "2. some wrong categorical values in the gender\n",
    "3. Missing categorical values in the took_part_in_the_hostilities,place_of_residence,place_of_residence_district,type_of_injury\n",
    "4. same as ammunition\n",
    "5. Fill missing values with a placeholder text, like 'No Information'.e)\r\n"
   ]
  },
  {
   "cell_type": "code",
   "execution_count": 92,
   "id": "770e9c1f-9573-4476-a9cd-ec7774e4e289",
   "metadata": {},
   "outputs": [],
   "source": [
    "mean_age = df['age'].mean()\n",
    "df['age'].fillna(mean_age, inplace=True)"
   ]
  },
  {
   "cell_type": "markdown",
   "id": "80544a2e-0279-4336-8404-01bd0fc6ad26",
   "metadata": {},
   "source": [
    "This code calculates the mean age and then fills the missing values in the 'age' column with this mean value. "
   ]
  },
  {
   "cell_type": "code",
   "execution_count": 93,
   "id": "83179a1e-ea34-406f-93d8-305791e0f911",
   "metadata": {},
   "outputs": [],
   "source": [
    "df['age'] = df['age'].astype(int)"
   ]
  },
  {
   "cell_type": "markdown",
   "id": "7f13eaf4-9197-402a-96a2-b559e3a09d22",
   "metadata": {},
   "source": [
    "This code will convert the data type of the 'age' column from float to integer"
   ]
  },
  {
   "cell_type": "code",
   "execution_count": 94,
   "id": "6f09bfcb-5eb1-46f0-aacd-3680f414609f",
   "metadata": {},
   "outputs": [],
   "source": [
    "mode_gender = df['gender'].mode()[0]\n",
    "df['gender'].fillna(mode_gender, inplace=True)"
   ]
  },
  {
   "cell_type": "markdown",
   "id": "3ba54675-1d3b-4b51-9078-acb56b002600",
   "metadata": {},
   "source": [
    "This code fills the missing values in the 'Gender' column with the mode (most frequently occurring value) of the column. This is a common and straightforward approach for categorical variables like gender."
   ]
  },
  {
   "cell_type": "code",
   "execution_count": 95,
   "id": "19f0b73b-de08-44f4-8ca2-aff26a1c4531",
   "metadata": {},
   "outputs": [],
   "source": [
    "mode_value = df['took_part_in_the_hostilities'].mode()[0]\n",
    "df['took_part_in_the_hostilities'].fillna(mode_value, inplace=True)"
   ]
  },
  {
   "cell_type": "markdown",
   "id": "6a8c0be7-6921-409f-b565-5744b7649fb2",
   "metadata": {},
   "source": [
    "This line calculates the mode of the 'took_part_in_the_hostilities' column using the mode() function and selects the first mode (in case there are multiple)."
   ]
  },
  {
   "cell_type": "code",
   "execution_count": 96,
   "id": "d53aa9a0-baa0-4c03-8d55-c54762e087d0",
   "metadata": {},
   "outputs": [],
   "source": [
    "mode_value = df['place_of_residence'].mode()[0]\n",
    "df['place_of_residence'].fillna(mode_value, inplace=True)"
   ]
  },
  {
   "cell_type": "code",
   "execution_count": 97,
   "id": "db766a77-4d06-4c6f-82e2-a73d0022c00d",
   "metadata": {},
   "outputs": [],
   "source": [
    "mode_value = df['place_of_residence_district'].mode()[0]\n",
    "df['place_of_residence_district'].fillna(mode_value, inplace=True)"
   ]
  },
  {
   "cell_type": "code",
   "execution_count": 98,
   "id": "754936de-c1e1-4d1e-bf93-3fa2e8e62a5d",
   "metadata": {},
   "outputs": [],
   "source": [
    "mode_value = df['type_of_injury'].mode()[0]\n",
    "df['type_of_injury'].fillna(mode_value, inplace=True)"
   ]
  },
  {
   "cell_type": "code",
   "execution_count": 99,
   "id": "b9ca0cff-da7e-4356-ad81-1cb247ea96e3",
   "metadata": {},
   "outputs": [],
   "source": [
    "mode_value = df['ammunition'].mode()[0]\n",
    "df['ammunition'].fillna(mode_value, inplace=True)"
   ]
  },
  {
   "cell_type": "code",
   "execution_count": 100,
   "id": "261cade3-0709-4d95-8a4d-614fb632faa6",
   "metadata": {},
   "outputs": [],
   "source": [
    "df['notes'].fillna('No information', inplace=True)"
   ]
  },
  {
   "cell_type": "markdown",
   "id": "48141b7f-6efb-4010-b019-ffd6a90653d1",
   "metadata": {},
   "source": [
    "Fill missing values with a placeholder text, like 'No Information'."
   ]
  },
  {
   "cell_type": "code",
   "execution_count": 101,
   "id": "40f9beb0-2dea-47d4-b338-f78a83768dd3",
   "metadata": {},
   "outputs": [
    {
     "data": {
      "text/plain": [
       "name                            0\n",
       "date_of_event                   0\n",
       "age                             0\n",
       "citizenship                     0\n",
       "event_location                  0\n",
       "event_location_district         0\n",
       "event_location_region           0\n",
       "date_of_death                   0\n",
       "gender                          0\n",
       "took_part_in_the_hostilities    0\n",
       "place_of_residence              0\n",
       "place_of_residence_district     0\n",
       "type_of_injury                  0\n",
       "ammunition                      0\n",
       "killed_by                       0\n",
       "notes                           0\n",
       "dtype: int64"
      ]
     },
     "execution_count": 101,
     "metadata": {},
     "output_type": "execute_result"
    }
   ],
   "source": [
    "df.isnull().sum()"
   ]
  },
  {
   "cell_type": "code",
   "execution_count": 103,
   "id": "5c7accbe-6729-4fe8-bb5b-9643a5e4b762",
   "metadata": {},
   "outputs": [
    {
     "data": {
      "text/html": [
       "<div>\n",
       "<style scoped>\n",
       "    .dataframe tbody tr th:only-of-type {\n",
       "        vertical-align: middle;\n",
       "    }\n",
       "\n",
       "    .dataframe tbody tr th {\n",
       "        vertical-align: top;\n",
       "    }\n",
       "\n",
       "    .dataframe thead th {\n",
       "        text-align: right;\n",
       "    }\n",
       "</style>\n",
       "<table border=\"1\" class=\"dataframe\">\n",
       "  <thead>\n",
       "    <tr style=\"text-align: right;\">\n",
       "      <th></th>\n",
       "      <th>age</th>\n",
       "    </tr>\n",
       "  </thead>\n",
       "  <tbody>\n",
       "    <tr>\n",
       "      <th>count</th>\n",
       "      <td>11124.000000</td>\n",
       "    </tr>\n",
       "    <tr>\n",
       "      <th>mean</th>\n",
       "      <td>26.737055</td>\n",
       "    </tr>\n",
       "    <tr>\n",
       "      <th>std</th>\n",
       "      <td>13.700637</td>\n",
       "    </tr>\n",
       "    <tr>\n",
       "      <th>min</th>\n",
       "      <td>1.000000</td>\n",
       "    </tr>\n",
       "    <tr>\n",
       "      <th>25%</th>\n",
       "      <td>19.000000</td>\n",
       "    </tr>\n",
       "    <tr>\n",
       "      <th>50%</th>\n",
       "      <td>23.000000</td>\n",
       "    </tr>\n",
       "    <tr>\n",
       "      <th>75%</th>\n",
       "      <td>31.000000</td>\n",
       "    </tr>\n",
       "    <tr>\n",
       "      <th>max</th>\n",
       "      <td>112.000000</td>\n",
       "    </tr>\n",
       "  </tbody>\n",
       "</table>\n",
       "</div>"
      ],
      "text/plain": [
       "                age\n",
       "count  11124.000000\n",
       "mean      26.737055\n",
       "std       13.700637\n",
       "min        1.000000\n",
       "25%       19.000000\n",
       "50%       23.000000\n",
       "75%       31.000000\n",
       "max      112.000000"
      ]
     },
     "execution_count": 103,
     "metadata": {},
     "output_type": "execute_result"
    }
   ],
   "source": [
    "df.describe()"
   ]
  },
  {
   "cell_type": "markdown",
   "id": "f0951bbb-0c1b-4a58-bb8f-7f7fa3012249",
   "metadata": {},
   "source": [
    "Overall, this dataset provides important demographic information about the ages of individuals affected by the Israel-Palestine conflict. It can be useful for understanding the age distribution of the victims and potentially for analyzing trends or patterns related to age in this context."
   ]
  },
  {
   "cell_type": "markdown",
   "id": "a84cf85a-9da0-4c5a-bc4b-a0b61c20eead",
   "metadata": {},
   "source": [
    "## 1. find out how many Palestinian and Israeli deaths are in the Conflict"
   ]
  },
  {
   "cell_type": "code",
   "execution_count": 105,
   "id": "134b4918-d5dc-4ba1-8ec3-e6ba8d330bc7",
   "metadata": {},
   "outputs": [],
   "source": [
    "death_counts = df['citizenship'].value_counts()"
   ]
  },
  {
   "cell_type": "code",
   "execution_count": 106,
   "id": "f8243431-ea7b-4516-bfff-11e888a8a2e5",
   "metadata": {},
   "outputs": [
    {
     "data": {
      "text/plain": [
       "citizenship\n",
       "Palestinian    10092\n",
       "Israeli         1029\n",
       "Jordanian          2\n",
       "American           1\n",
       "Name: count, dtype: int64"
      ]
     },
     "execution_count": 106,
     "metadata": {},
     "output_type": "execute_result"
    }
   ],
   "source": [
    "death_counts"
   ]
  },
  {
   "cell_type": "code",
   "execution_count": 114,
   "id": "5e3c0e5b-ef18-4319-9c4e-96757ca8fef0",
   "metadata": {},
   "outputs": [
    {
     "data": {
      "image/png": "[encoded data removed]",
      "text/plain": [
       "<Figure size 640x480 with 1 Axes>"
      ]
     },
     "metadata": {},
     "output_type": "display_data"
    }
   ],
   "source": [
    "import seaborn as sns\n",
    "import matplotlib.pyplot as plt\n",
    "\n",
    "sns.barplot(x=death_counts.index, y=death_counts.values, palette='pastel')\n",
    "plt.xlabel('Citizenship')\n",
    "plt.ylabel('Number of Deaths')\n",
    "plt.title('Fatalities of Palestine-Israel')\n",
    "plt.show()"
   ]
  },
  {
   "cell_type": "markdown",
   "id": "668a196b-f35d-4d8a-9591-676922f1df3a",
   "metadata": {},
   "source": [
    "# 2. find out which groups were responsible for the deaths of Palestinians and Israelis"
   ]
  },
  {
   "cell_type": "code",
   "execution_count": 107,
   "id": "d747f3d0-743a-4cdb-a05b-6326e9b93808",
   "metadata": {},
   "outputs": [],
   "source": [
    "palestinian_killed_by = df[df['citizenship'] == 'Palestinian']['killed_by'].value_counts()\n",
    "israeli_killed_by = df[df['citizenship'] == 'Israeli']['killed_by'].value_counts()"
   ]
  },
  {
   "cell_type": "code",
   "execution_count": 110,
   "id": "e72ecc99-da53-4a04-897e-93ae871946b5",
   "metadata": {},
   "outputs": [
    {
     "name": "stdout",
     "output_type": "stream",
     "text": [
      "Palestinian Deaths - Responsible Groups:\n",
      "killed_by\n",
      "Israeli security forces    9996\n",
      "Israeli civilians            96\n",
      "Name: count, dtype: int64\n"
     ]
    }
   ],
   "source": [
    "print(\"Palestinian Deaths - Responsible Groups:\")\n",
    "print(palestinian_killed_by)"
   ]
  },
  {
   "cell_type": "code",
   "execution_count": 111,
   "id": "ead3f7b2-09a8-4d3c-ba12-d8b96905e710",
   "metadata": {},
   "outputs": [
    {
     "name": "stdout",
     "output_type": "stream",
     "text": [
      "Israeli Deaths - Responsible Groups:\n",
      "killed_by\n",
      "Palestinian civilians      1028\n",
      "Israeli security forces       1\n",
      "Name: count, dtype: int64\n"
     ]
    }
   ],
   "source": [
    "print(\"Israeli Deaths - Responsible Groups:\")\n",
    "print(israeli_killed_by)"
   ]
  },
  {
   "cell_type": "code",
   "execution_count": 119,
   "id": "04db0ef6-187f-4055-983e-ce49153bc836",
   "metadata": {},
   "outputs": [
    {
     "data": {
      "text/plain": [
       "Text(0, 0.5, 'Number of Deaths')"
      ]
     },
     "execution_count": 119,
     "metadata": {},
     "output_type": "execute_result"
    },
    {
     "data": {
      "image/png": "[encoded data removed]",
      "text/plain": [
       "<Figure size 640x480 with 1 Axes>"
      ]
     },
     "metadata": {},
     "output_type": "display_data"
    }
   ],
   "source": [
    "sns.barplot(x=palestinian_killed_by.index, y=palestinian_killed_by.values, palette='pastel')\n",
    "plt.xlabel('Responsible Groups')\n",
    "plt.ylabel('Number of Deaths')"
   ]
  },
  {
   "cell_type": "code",
   "execution_count": 121,
   "id": "b8731844-bf66-47b0-8f6c-061b06829cb3",
   "metadata": {},
   "outputs": [
    {
     "data": {
      "text/plain": [
       "Text(0, 0.5, 'Number of Deaths')"
      ]
     },
     "execution_count": 121,
     "metadata": {},
     "output_type": "execute_result"
    },
    {
     "data": {
      "image/png": "[encoded data removed]",
      "text/plain": [
       "<Figure size 640x480 with 1 Axes>"
      ]
     },
     "metadata": {},
     "output_type": "display_data"
    }
   ],
   "source": [
    "sns.barplot(x=israeli_killed_by.index, y=israeli_killed_by.values, palette='pastel')\n",
    "plt.xlabel('Responsible Groups')\n",
    "plt.ylabel('Number of Deaths')"
   ]
  },
  {
   "cell_type": "markdown",
   "id": "fd0d6d90-ffd3-46c8-9cfe-fd3ff5a83464",
   "metadata": {},
   "source": [
    "# 3.  find out how many males and females"
   ]
  },
  {
   "cell_type": "code",
   "execution_count": 122,
   "id": "6edd2667-4ae5-461e-b6cf-b944d3efcde9",
   "metadata": {},
   "outputs": [],
   "source": [
    "gender_counts = df['gender'].value_counts()"
   ]
  },
  {
   "cell_type": "code",
   "execution_count": 123,
   "id": "c6f0920a-30e9-48c1-ab5d-62421c4728ba",
   "metadata": {},
   "outputs": [
    {
     "data": {
      "text/plain": [
       "gender\n",
       "M    9701\n",
       "F    1423\n",
       "Name: count, dtype: int64"
      ]
     },
     "execution_count": 123,
     "metadata": {},
     "output_type": "execute_result"
    }
   ],
   "source": [
    "gender_counts"
   ]
  },
  {
   "cell_type": "code",
   "execution_count": 125,
   "id": "a6ebb3dc-558c-4951-b6db-6000f3783e64",
   "metadata": {},
   "outputs": [
    {
     "data": {
      "text/plain": [
       "Text(0, 0.5, 'Number of deaths')"
      ]
     },
     "execution_count": 125,
     "metadata": {},
     "output_type": "execute_result"
    },
    {
     "data": {
      "image/png": "[encoded data removed]",
      "text/plain": [
       "<Figure size 640x480 with 1 Axes>"
      ]
     },
     "metadata": {},
     "output_type": "display_data"
    }
   ],
   "source": [
    "sns.barplot(x=gender_counts.index, y=gender_counts.values, palette='pastel')\n",
    "plt.xlabel('Gender')\n",
    "plt.ylabel('Number of deaths')"
   ]
  },
  {
   "cell_type": "markdown",
   "id": "8bef5ce8-09f6-43ee-975b-8c54dcbc2cad",
   "metadata": {},
   "source": [
    "# 4. find out how many deaths occurred in each event_location_region"
   ]
  },
  {
   "cell_type": "code",
   "execution_count": 126,
   "id": "606e5fea-49b5-4e43-a0d9-4827da4d6e6f",
   "metadata": {},
   "outputs": [],
   "source": [
    "deaths_by_region = df.groupby('event_location_region')['name'].count()"
   ]
  },
  {
   "cell_type": "code",
   "execution_count": 128,
   "id": "aa232664-c5b3-48b9-8be0-9b6e0d597b1b",
   "metadata": {},
   "outputs": [
    {
     "data": {
      "text/plain": [
       "event_location_region\n",
       "Gaza Strip    7733\n",
       "Israel         679\n",
       "West Bank     2712\n",
       "Name: name, dtype: int64"
      ]
     },
     "execution_count": 128,
     "metadata": {},
     "output_type": "execute_result"
    }
   ],
   "source": [
    "deaths_by_region"
   ]
  },
  {
   "cell_type": "code",
   "execution_count": 132,
   "id": "ac0b6fe4-e8be-4b24-9243-acb42eb7f44e",
   "metadata": {},
   "outputs": [
    {
     "data": {
      "text/plain": [
       "Text(0.5, 1.0, 'Number of Deaths by Event Location Region')"
      ]
     },
     "execution_count": 132,
     "metadata": {},
     "output_type": "execute_result"
    },
    {
     "data": {
      "image/png": "[encoded data removed]",
      "text/plain": [
       "<Figure size 800x600 with 1 Axes>"
      ]
     },
     "metadata": {},
     "output_type": "display_data"
    }
   ],
   "source": [
    "plt.figure(figsize=(8, 6))\n",
    "plt.bar(deaths_by_region.index, deaths_by_region.values, color='skyblue')\n",
    "plt.xlabel('Event Location Region')\n",
    "plt.ylabel('Number of Deaths')\n",
    "plt.title('Number of Deaths by Event Location Region')"
   ]
  },
  {
   "cell_type": "markdown",
   "id": "4789193f-8eaf-4809-8581-8d0c617dab33",
   "metadata": {},
   "source": [
    "# 5. find out the types of injuries that led to deaths for both Palestinians and Israelis"
   ]
  },
  {
   "cell_type": "code",
   "execution_count": 133,
   "id": "f504a855-bf05-44fd-b66a-4bf0a1e18557",
   "metadata": {},
   "outputs": [],
   "source": [
    "palestinian = df[df['citizenship'] == 'Palestinian']['type_of_injury'].value_counts()"
   ]
  },
  {
   "cell_type": "code",
   "execution_count": 134,
   "id": "c84aad9f-442d-4967-b751-ea5ef25e860f",
   "metadata": {},
   "outputs": [
    {
     "data": {
      "text/plain": [
       "type_of_injury\n",
       "gunfire                 9688\n",
       "shelling                 311\n",
       "explosion                 47\n",
       "house demolition          25\n",
       "stabbing                   5\n",
       "beating                    5\n",
       "hit by a vehicle           4\n",
       "fire                       4\n",
       "stones throwing            2\n",
       "physically assaulted       1\n",
       "Name: count, dtype: int64"
      ]
     },
     "execution_count": 134,
     "metadata": {},
     "output_type": "execute_result"
    }
   ],
   "source": [
    "palestinian"
   ]
  },
  {
   "cell_type": "code",
   "execution_count": 135,
   "id": "c6a6e16f-0607-481c-9b94-9e744713b6b2",
   "metadata": {},
   "outputs": [],
   "source": [
    "israeli = df[df['citizenship'] == 'Israeli']['type_of_injury'].value_counts()"
   ]
  },
  {
   "cell_type": "code",
   "execution_count": 136,
   "id": "b5c3f975-fed7-4649-9c30-16591c257289",
   "metadata": {},
   "outputs": [
    {
     "data": {
      "text/plain": [
       "type_of_injury\n",
       "explosion                       508\n",
       "gunfire                         449\n",
       "stabbing                         43\n",
       "hit by a vehicle                 14\n",
       "being bludgeoned with an axe      4\n",
       "stones throwing                   4\n",
       "beating                           4\n",
       "physical assault                  1\n",
       "physically assaulted              1\n",
       "Strangulation                     1\n",
       "Name: count, dtype: int64"
      ]
     },
     "execution_count": 136,
     "metadata": {},
     "output_type": "execute_result"
    }
   ],
   "source": [
    "israeli"
   ]
  }
 ],
 "metadata": {
  "kernelspec": {
   "display_name": "Python 3 (ipykernel)",
   "language": "python",
   "name": "python3"
  },
  "language_info": {
   "codemirror_mode": {
    "name": "ipython",
    "version": 3
   },
   "file_extension": ".py",
   "mimetype": "text/x-python",
   "name": "python",
   "nbconvert_exporter": "python",
   "pygments_lexer": "ipython3",
   "version": "3.11.5"
  }
 },
 "nbformat": 4,
 "nbformat_minor": 5
}
